{
 "cells": [
  {
   "cell_type": "code",
   "execution_count": null,
   "id": "f22fd99f",
   "metadata": {},
   "outputs": [],
   "source": [
    "our_limit = 10\n",
    "our_counter = 5\n",
    "\n",
    "while True:\n",
    "    print(our_counter)\n",
    "    our_counter += 1\n",
    "    print(\"the end\")\n",
    "    if our_counter == 9:\n",
    "        break\n",
    "\n",
    "print('------')"
   ]
  },
  {
   "cell_type": "code",
   "execution_count": null,
   "id": "ee292332",
   "metadata": {},
   "outputs": [],
   "source": [
    "list_of_nums = [0, 1, 2, 3, 4, 5, 6, 7, 8, 9, \n",
    "                10, 11, 12, 13, 14, 15]\n",
    "\n",
    "for element in list_of_nums:\n",
    "    print(f\"The number is {element}\")"
   ]
  },
  {
   "cell_type": "code",
   "execution_count": null,
   "id": "8835d591",
   "metadata": {},
   "outputs": [],
   "source": [
    "for crayon in [i for i in range(16)]:\n",
    "    print(f\"The number is {crayon}\")"
   ]
  },
  {
   "cell_type": "code",
   "execution_count": null,
   "id": "6297e17d",
   "metadata": {},
   "outputs": [],
   "source": [
    "def find_minimum(val_1, val_2, val_3):\n",
    "    \"\"\"\n",
    "    Helper function to find the minimum of \n",
    "    three inputted values\n",
    "    \"\"\"\n",
    "    lowest_val = val_1 # Remember this won't exist anywhere else?\n",
    "    \n",
    "    if val_2 < lowest_val:\n",
    "        lowest_val = val_2\n",
    "        \n",
    "    if val_3 < lowest_val:\n",
    "        lowest_val = val_3\n",
    "        \n",
    "    return lowest_val"
   ]
  },
  {
   "cell_type": "code",
   "execution_count": null,
   "id": "cdcde990",
   "metadata": {},
   "outputs": [],
   "source": [
    "# More fString features 1c: Slide 14\n",
    "\n",
    "print(f\"The answer is {2+2}\")\n",
    "\n",
    "my_float = 4.678235468594900127458\n",
    "\n",
    "# .2f here means \"a floating point with precision 2 decimal places\"\n",
    "print(f\"My number rounded to 2 decimal places is {my_float:.2f}\")\n",
    "\n",
    "freq = \"Sometimes\"\n",
    "hsma_minion = \"Elliott\"\n",
    "the_enemy = \"THE LINE\"\n",
    "\n",
    "print(f\"{freq} we want to write very long fStrngs that need to span\",\n",
    "     f\"multiple lines if we don't want {hsma_minion} to tell us off for\",\n",
    "     f\"going over..... {the_enemy}\")"
   ]
  },
  {
   "cell_type": "code",
   "execution_count": null,
   "id": "63129e03",
   "metadata": {},
   "outputs": [],
   "source": [
    "print(f\"{freq} we want to write very long fStrngs that need to span\\n\",\n",
    "     f\"multiple lines if we don't want \\n{hsma_minion} to tell us off for\",\n",
    "     f\"going over..... {the_enemy}\")"
   ]
  },
  {
   "cell_type": "code",
   "execution_count": null,
   "id": "57d43b31",
   "metadata": {},
   "outputs": [],
   "source": [
    "age = int(input(\"How old are you? :\"))\n",
    "\n",
    "print(type(age))"
   ]
  },
  {
   "cell_type": "code",
   "execution_count": null,
   "id": "8eecdf10",
   "metadata": {},
   "outputs": [],
   "source": [
    "# Exercise 1\n",
    "\n",
    "user_name = str(input(\"Please enter your first name: \"))\n",
    "user_age = int(input(\"Please enter your age (years) in whole numbers: \"))\n",
    "print(f\"Happy birthday {user_name}, you are {user_age} today\")"
   ]
  },
  {
   "cell_type": "code",
   "execution_count": null,
   "id": "1fb2ea1e",
   "metadata": {},
   "outputs": [],
   "source": [
    "# 1C 20 Math Operators\n",
    "a = 16\n",
    "b = 3\n",
    "\n",
    "print(a + b) # plus\n",
    "print(a - b) # subtract\n",
    "print(a * b) # multiply\n",
    "print(a / b) # divide\n",
    "print(a % b) # modulus GREAT FOR FINDING ODDS Vs. EVENS\n",
    "print(a ** b) # to the power of ( ^ for my Excel friends)"
   ]
  },
  {
   "cell_type": "code",
   "execution_count": null,
   "id": "77434cd4",
   "metadata": {},
   "outputs": [],
   "source": [
    "# 1C: Conditional Logic (Slide 23)\n",
    "\n",
    "user_age = int(input(\"Please enter your age (years) in whole numbers: \"))\n",
    "\n",
    "if user_age < 30:\n",
    "    print(\"Please go to Room A\")\n",
    "else:\n",
    "    print(\"Please go to Room B\") # (in what scenarios will this string print?)\n",
    "    # Who can tell me about indents?"
   ]
  },
  {
   "cell_type": "code",
   "execution_count": null,
   "id": "e1047cc1",
   "metadata": {},
   "outputs": [],
   "source": [
    "# For Loops 2: While Loops # while the sun is shining Elliott will continue to do more clothes washing\n",
    "# Slide 33\n",
    "\n",
    "correct = False\n",
    "\n",
    "while correct == False:\n",
    "    answer = input(\"Type YES if you've had enough for the day: \") #apostrophes\n",
    "    if answer == \"YES\":\n",
    "        print(\"You don't mean that - remember practice makes perfect!\")\n",
    "        correct = True\n",
    "    else:\n",
    "        print(\"Nice! Lets continue to learn!\")"
   ]
  },
  {
   "cell_type": "code",
   "execution_count": null,
   "id": "a675d613",
   "metadata": {},
   "outputs": [],
   "source": [
    "while True:\n",
    "    answer = input(\"Type YES if you've had enough for the day: \") #apostrophes\n",
    "    if answer == \"YES\":\n",
    "        break\n"
   ]
  },
  {
   "cell_type": "code",
   "execution_count": null,
   "id": "35594466",
   "metadata": {},
   "outputs": [],
   "source": [
    "# Breaking from a loop (Slide 34)\n",
    "total = 0\n",
    "\n",
    "for x in range(10):\n",
    "    total += x\n",
    "    print(total)\n",
    "    \n",
    "print(\"This command occurs after/ outside of the for loop above\")"
   ]
  },
  {
   "cell_type": "code",
   "execution_count": null,
   "id": "f0a7ec3d",
   "metadata": {},
   "outputs": [],
   "source": [
    "# Creating an empty list\n",
    "my_list = []\n",
    "\n",
    "#Creating a new list with elements\n",
    "my_shopping_list = ['broccoli', 'cauliflower', 'cheese', 'toothpaste'] # what the diff. between single and double quotes?\n",
    "\n",
    "print(my_shopping_list)\n",
    "\n",
    "# Append to an existing list\n",
    "my_shopping_list.append(\"bacon\")\n",
    "\n",
    "print(my_shopping_list)"
   ]
  },
  {
   "cell_type": "code",
   "execution_count": null,
   "id": "40f4caf5",
   "metadata": {},
   "outputs": [],
   "source": [
    "#Creating a new list with elements\n",
    "my_shopping_list = ['broccoli', 'cauliflower', 'cheese', 'toothpaste'] # what the diff. between single and double quotes?\n",
    "\n",
    "print(my_shopping_list)\n",
    "\n",
    "# Append to an existing list\n",
    "my_shopping_list.extend([\"bacon\", \"courgettes\", \"cola\"])\n",
    "\n",
    "print(my_shopping_list)"
   ]
  },
  {
   "cell_type": "code",
   "execution_count": null,
   "id": "6925d2d7",
   "metadata": {},
   "outputs": [],
   "source": [
    "# Working with Lists - Index Range - aka Slicing\n",
    "my_list = [\"yellow\", \"purple\", \"green\", \"hello\", 99, \"blue\"]\n",
    "\n",
    "print(my_list[1:3]) # i.e. 1, 2"
   ]
  },
  {
   "cell_type": "markdown",
   "id": "547ddb4d",
   "metadata": {},
   "source": [
    "#### Copying Lists"
   ]
  },
  {
   "cell_type": "code",
   "execution_count": null,
   "id": "91d37522",
   "metadata": {},
   "outputs": [],
   "source": [
    "my_list = [\"yellow\", \"purple\", \"green\", \"hello\", 99, \"blue\"]\n",
    "\n",
    "copy_of_my_list = my_list"
   ]
  },
  {
   "cell_type": "code",
   "execution_count": null,
   "id": "9d589979",
   "metadata": {},
   "outputs": [],
   "source": [
    "my_list.append(\"chicken\")\n",
    "print(copy_of_my_list) # why is chicken there?!"
   ]
  },
  {
   "cell_type": "code",
   "execution_count": null,
   "id": "b9ae5af7",
   "metadata": {},
   "outputs": [],
   "source": [
    "# Take 2\n",
    "my_list = [\"yellow\", \"purple\", \"green\", \"hello\", 99, \"blue\"]\n",
    "copy_of_my_list = my_list.copy()\n",
    "my_list.append(\"chicken\")\n",
    "print(my_list) \n",
    "print(copy_of_my_list) "
   ]
  },
  {
   "cell_type": "markdown",
   "id": "029f1399",
   "metadata": {},
   "source": [
    "#### Dictionaries"
   ]
  },
  {
   "cell_type": "code",
   "execution_count": null,
   "id": "da490b21",
   "metadata": {},
   "outputs": [],
   "source": [
    "# Dictionaries\n",
    "\n",
    "about_elliott_dict = {}\n",
    "\n",
    "print(type(about_elliott_dict))\n",
    "about_elliott_dict"
   ]
  },
  {
   "cell_type": "code",
   "execution_count": null,
   "id": "a3eaa7f8",
   "metadata": {},
   "outputs": [],
   "source": [
    "about_elliott_dict['hometown'] = 'liverpool'\n",
    "about_elliott_dict['birth_month'] = 'october'\n",
    "about_elliott_dict['pet_name'] = 'percy'\n",
    "about_elliott_dict['fav_aircraft'] = 'b747'\n",
    "about_elliott_dict['fav_airline'] = 'ek'\n",
    "\n",
    "about_elliott_dict"
   ]
  },
  {
   "cell_type": "code",
   "execution_count": null,
   "id": "6a6adaa7",
   "metadata": {},
   "outputs": [],
   "source": [
    "about_elliott_dict['fav_airline']"
   ]
  },
  {
   "cell_type": "code",
   "execution_count": null,
   "id": "544a74ae",
   "metadata": {},
   "outputs": [],
   "source": [
    "people_dict = {}\n",
    "people_dict['elliott'] = {}\n",
    "people_dict['dan'] = {}\n",
    "print(people_dict)"
   ]
  },
  {
   "cell_type": "code",
   "execution_count": null,
   "id": "10adb462",
   "metadata": {},
   "outputs": [],
   "source": [
    "people_dict['elliott']['interest'] = 'aviation'\n",
    "people_dict['dan']['interest'] = 'movies'\n",
    "print(people_dict)"
   ]
  },
  {
   "cell_type": "markdown",
   "id": "b31b514e",
   "metadata": {},
   "source": [
    "#### Functions"
   ]
  },
  {
   "cell_type": "code",
   "execution_count": null,
   "id": "dd384b1c",
   "metadata": {},
   "outputs": [],
   "source": [
    "\n",
    "def multiply_and_check(number_1, number_2):\n",
    "    result = number_1 * number_2\n",
    "    \n",
    "    if result > 100:\n",
    "        return True\n",
    "    else:\n",
    "        return False\n",
    "    \n",
    "    # What would happen if I tried to print number_1 outside of the function\n",
    "    \n",
    "    \n",
    "multiply_and_check(2, 50)"
   ]
  },
  {
   "cell_type": "code",
   "execution_count": null,
   "id": "8e67fe3d",
   "metadata": {},
   "outputs": [],
   "source": [
    "# Try & Except with Function Example 1D: 8\n",
    "# Q: where can and can't you import libraries\n",
    "# Q: Does anyone remember what I said about repeating the same pieces of code?\n",
    "# How are people feeling about this - can I show them the for loop?\n",
    "\n",
    "import random\n",
    "\n",
    "def multiply_and_check(number_1, number_2):\n",
    "    result = number_1 * number_2\n",
    "\n",
    "    if result > 100:\n",
    "        return True\n",
    "    else:\n",
    "        return False\n",
    "\n",
    "try:\n",
    "    user_input_1 = int(input(\"Enter number 1: \"))\n",
    "except:\n",
    "    print(\"Sorry, you didn't enter an integer\")\n",
    "    print(\"We'll use a random integer instead\")\n",
    "    user_input_1 = random.randint(1,1000)\n",
    "    print(f\"Let's use {user_input_1}\")\n",
    "else:\n",
    "    print(\"Thank you for doing as asked....\")\n",
    "finally:\n",
    "    print(\"Either way we have the first number....\")   \n",
    "    \n",
    "try:\n",
    "    user_input_2 = int(input(\"Enter number 2: \"))\n",
    "except:\n",
    "    print(\"Sorry, you didn't enter an integer\")\n",
    "    print(\"We'll use a random integer instead\")\n",
    "    user_input_2 = random.randint(1,1000)\n",
    "    print(f\"Let's use {user_input_2}\")    \n",
    "    \n",
    "else:\n",
    "    print(\"Thank you for doing as asked....\")\n",
    "finally:\n",
    "    print(\"Either way we have the second number....\")\n",
    "\n",
    "is_result_over_100 = multiply_and_check(user_input_1, user_input_2)\n",
    "\n",
    "if is_result_over_100 == True:\n",
    "    print(\"I knew you'd think of big numbers!\")"
   ]
  },
  {
   "cell_type": "code",
   "execution_count": null,
   "id": "38b2edca",
   "metadata": {},
   "outputs": [],
   "source": []
  }
 ],
 "metadata": {
  "kernelspec": {
   "display_name": "Python 3 (ipykernel)",
   "language": "python",
   "name": "python3"
  },
  "language_info": {
   "codemirror_mode": {
    "name": "ipython",
    "version": 3
   },
   "file_extension": ".py",
   "mimetype": "text/x-python",
   "name": "python",
   "nbconvert_exporter": "python",
   "pygments_lexer": "ipython3",
   "version": "3.9.12"
  }
 },
 "nbformat": 4,
 "nbformat_minor": 5
}
