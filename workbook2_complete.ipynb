{
 "cells": [
  {
   "cell_type": "markdown",
   "metadata": {},
   "source": [
    "# Python Programming Workbook 2\n"
   ]
  },
  {
   "cell_type": "markdown",
   "metadata": {},
   "source": [
    "This workbook is intended to accompany Session 1C of the HSMA Training Programme - Python Programming Part 1.  You should be completing this when prompted by the trainer as Exercise 3 of the session.  You should read each task, and then try to write code to achieve what you are being asked in the code cell below each set of instructions.  Remember - check your code is working by running the code cell (CTRL + Enter whilst in the cell, or click the play button in the bar at the top)."
   ]
  },
  {
   "cell_type": "markdown",
   "metadata": {},
   "source": [
    "**Task 1**\n",
    "Write a piece of code that asks the user to input a number, and the machine then prints out the times table (from 1 x up to and including 12 x the number) for whatever number is entered."
   ]
  },
  {
   "cell_type": "code",
   "execution_count": null,
   "metadata": {},
   "outputs": [],
   "source": [
    "var_1 = int(input(\"Please enter the number: \"))\n",
    "\n",
    "for random_name2 in range(1,13):\n",
    "    print(random_name2 * var_1)"
   ]
  },
  {
   "cell_type": "code",
   "execution_count": null,
   "metadata": {},
   "outputs": [],
   "source": [
    "i"
   ]
  },
  {
   "cell_type": "markdown",
   "metadata": {},
   "source": [
    "**Task 2** Write code that sets up a new list called penchordians with the initial values \"Dan\", \"Tom\", \"Sean\" and \"Kerry\", and iterates through the list saying hello to each team member."
   ]
  },
  {
   "cell_type": "code",
   "execution_count": null,
   "metadata": {},
   "outputs": [],
   "source": [
    "penchordians = [\"Dan\", \"Tom\", \"Sean\", \"Kerry\"]\n",
    "\n",
    "for name_ in penchordians:\n",
    "    print(f\"Hello {name_}\")\n",
    "\n",
    "\n",
    "\n",
    "\n",
    "\n"
   ]
  },
  {
   "cell_type": "markdown",
   "metadata": {},
   "source": [
    "**Task 3** Write a piece of code that asks the user to input a number, and will keep asking the user to input a number until the number entered is more than 100.  However, if the user enters 0 then the program exits with an appropriate message."
   ]
  },
  {
   "cell_type": "code",
   "execution_count": null,
   "metadata": {},
   "outputs": [],
   "source": [
    "while True:\n",
    "    user_input = int(input(\"Enter a number please: \"))\n",
    "    if user_input == 0:\n",
    "        print(\"Bye you entered 0\")\n",
    "        break\n",
    "\n",
    "    elif user_input > 100:\n",
    "        print(\"Bye you entered > 100\")\n",
    "\n",
    "        break\n",
    "        "
   ]
  },
  {
   "cell_type": "code",
   "execution_count": 3,
   "metadata": {},
   "outputs": [],
   "source": [
    "while False:\n",
    "    print(\"Dinner\")"
   ]
  },
  {
   "cell_type": "code",
   "execution_count": 13,
   "metadata": {},
   "outputs": [],
   "source": [
    "var_1 = 4\n",
    "\n",
    "def magic_fn(input_1):\n",
    "    interim_val = input_1 * 4\n",
    "    #print(interim_val)\n",
    "    return interim_val*4\n",
    "\n",
    "#var_2 = magic_fn(var_1)\n",
    "x = magic_fn(var_1)"
   ]
  },
  {
   "cell_type": "code",
   "execution_count": 20,
   "metadata": {},
   "outputs": [],
   "source": [
    "def magic_fn2(input_1):\n",
    "    interim_val = input_1 * 5\n",
    "    return interim_val, interim_val*10\n",
    "\n",
    "x = magic_fn2(5)"
   ]
  },
  {
   "cell_type": "code",
   "execution_count": 21,
   "metadata": {},
   "outputs": [
    {
     "data": {
      "text/plain": [
       "(25, 250)"
      ]
     },
     "execution_count": 21,
     "metadata": {},
     "output_type": "execute_result"
    }
   ],
   "source": [
    "x"
   ]
  },
  {
   "cell_type": "code",
   "execution_count": 22,
   "metadata": {},
   "outputs": [
    {
     "data": {
      "text/plain": [
       "250"
      ]
     },
     "execution_count": 22,
     "metadata": {},
     "output_type": "execute_result"
    }
   ],
   "source": [
    "y"
   ]
  },
  {
   "cell_type": "code",
   "execution_count": 14,
   "metadata": {},
   "outputs": [
    {
     "name": "stdout",
     "output_type": "stream",
     "text": [
      "64\n"
     ]
    }
   ],
   "source": [
    "print(x)"
   ]
  },
  {
   "cell_type": "code",
   "execution_count": 5,
   "metadata": {},
   "outputs": [
    {
     "ename": "NameError",
     "evalue": "name 'interim_val' is not defined",
     "output_type": "error",
     "traceback": [
      "\u001b[0;31m---------------------------------------------------------------------------\u001b[0m",
      "\u001b[0;31mNameError\u001b[0m                                 Traceback (most recent call last)",
      "\u001b[0;32m/tmp/ipykernel_45857/3733912335.py\u001b[0m in \u001b[0;36m<module>\u001b[0;34m\u001b[0m\n\u001b[0;32m----> 1\u001b[0;31m \u001b[0minterim_val\u001b[0m\u001b[0;34m\u001b[0m\u001b[0;34m\u001b[0m\u001b[0m\n\u001b[0m",
      "\u001b[0;31mNameError\u001b[0m: name 'interim_val' is not defined"
     ]
    }
   ],
   "source": [
    "interim_val"
   ]
  },
  {
   "cell_type": "code",
   "execution_count": null,
   "metadata": {},
   "outputs": [],
   "source": [
    "# counter_inc = 0\n",
    "\n",
    "# while True:\n",
    "#     print(counter_inc)\n",
    "#     counter_inc += 11\n",
    "#     if counter_inc == 100:\n",
    "#         break"
   ]
  },
  {
   "cell_type": "markdown",
   "metadata": {},
   "source": [
    "**Task 4** **This task is a little more challenging.  Think carefully about how you will approach this problem.** Write a piece of code that counts up day numbers from 2 to 364 (inclusive), and displays a message giving the day number every 2nd day, and additionally displays a reminder to \"go shopping\" every 4 days."
   ]
  },
  {
   "cell_type": "code",
   "execution_count": 1,
   "metadata": {},
   "outputs": [
    {
     "name": "stdout",
     "output_type": "stream",
     "text": [
      "2\n",
      "4\n",
      "go shopping\n",
      "6\n",
      "8\n",
      "go shopping\n",
      "10\n",
      "12\n",
      "go shopping\n",
      "14\n",
      "16\n",
      "go shopping\n",
      "18\n",
      "20\n",
      "go shopping\n",
      "22\n",
      "24\n",
      "go shopping\n",
      "26\n",
      "28\n",
      "go shopping\n",
      "30\n",
      "32\n",
      "go shopping\n",
      "34\n",
      "36\n",
      "go shopping\n",
      "38\n",
      "40\n",
      "go shopping\n",
      "42\n",
      "44\n",
      "go shopping\n",
      "46\n",
      "48\n",
      "go shopping\n",
      "50\n",
      "52\n",
      "go shopping\n",
      "54\n",
      "56\n",
      "go shopping\n",
      "58\n",
      "60\n",
      "go shopping\n",
      "62\n",
      "64\n",
      "go shopping\n",
      "66\n",
      "68\n",
      "go shopping\n",
      "70\n",
      "72\n",
      "go shopping\n",
      "74\n",
      "76\n",
      "go shopping\n",
      "78\n",
      "80\n",
      "go shopping\n",
      "82\n",
      "84\n",
      "go shopping\n",
      "86\n",
      "88\n",
      "go shopping\n",
      "90\n",
      "92\n",
      "go shopping\n",
      "94\n",
      "96\n",
      "go shopping\n",
      "98\n",
      "100\n",
      "go shopping\n",
      "102\n",
      "104\n",
      "go shopping\n",
      "106\n",
      "108\n",
      "go shopping\n",
      "110\n",
      "112\n",
      "go shopping\n",
      "114\n",
      "116\n",
      "go shopping\n",
      "118\n",
      "120\n",
      "go shopping\n",
      "122\n",
      "124\n",
      "go shopping\n",
      "126\n",
      "128\n",
      "go shopping\n",
      "130\n",
      "132\n",
      "go shopping\n",
      "134\n",
      "136\n",
      "go shopping\n",
      "138\n",
      "140\n",
      "go shopping\n",
      "142\n",
      "144\n",
      "go shopping\n",
      "146\n",
      "148\n",
      "go shopping\n",
      "150\n",
      "152\n",
      "go shopping\n",
      "154\n",
      "156\n",
      "go shopping\n",
      "158\n",
      "160\n",
      "go shopping\n",
      "162\n",
      "164\n",
      "go shopping\n",
      "166\n",
      "168\n",
      "go shopping\n",
      "170\n",
      "172\n",
      "go shopping\n",
      "174\n",
      "176\n",
      "go shopping\n",
      "178\n",
      "180\n",
      "go shopping\n",
      "182\n",
      "184\n",
      "go shopping\n",
      "186\n",
      "188\n",
      "go shopping\n",
      "190\n",
      "192\n",
      "go shopping\n",
      "194\n",
      "196\n",
      "go shopping\n",
      "198\n",
      "200\n",
      "go shopping\n",
      "202\n",
      "204\n",
      "go shopping\n",
      "206\n",
      "208\n",
      "go shopping\n",
      "210\n",
      "212\n",
      "go shopping\n",
      "214\n",
      "216\n",
      "go shopping\n",
      "218\n",
      "220\n",
      "go shopping\n",
      "222\n",
      "224\n",
      "go shopping\n",
      "226\n",
      "228\n",
      "go shopping\n",
      "230\n",
      "232\n",
      "go shopping\n",
      "234\n",
      "236\n",
      "go shopping\n",
      "238\n",
      "240\n",
      "go shopping\n",
      "242\n",
      "244\n",
      "go shopping\n",
      "246\n",
      "248\n",
      "go shopping\n",
      "250\n",
      "252\n",
      "go shopping\n",
      "254\n",
      "256\n",
      "go shopping\n",
      "258\n",
      "260\n",
      "go shopping\n",
      "262\n",
      "264\n",
      "go shopping\n",
      "266\n",
      "268\n",
      "go shopping\n",
      "270\n",
      "272\n",
      "go shopping\n",
      "274\n",
      "276\n",
      "go shopping\n",
      "278\n",
      "280\n",
      "go shopping\n",
      "282\n",
      "284\n",
      "go shopping\n",
      "286\n",
      "288\n",
      "go shopping\n",
      "290\n",
      "292\n",
      "go shopping\n",
      "294\n",
      "296\n",
      "go shopping\n",
      "298\n",
      "300\n",
      "go shopping\n",
      "302\n",
      "304\n",
      "go shopping\n",
      "306\n",
      "308\n",
      "go shopping\n",
      "310\n",
      "312\n",
      "go shopping\n",
      "314\n",
      "316\n",
      "go shopping\n",
      "318\n",
      "320\n",
      "go shopping\n",
      "322\n",
      "324\n",
      "go shopping\n",
      "326\n",
      "328\n",
      "go shopping\n",
      "330\n",
      "332\n",
      "go shopping\n",
      "334\n",
      "336\n",
      "go shopping\n",
      "338\n",
      "340\n",
      "go shopping\n",
      "342\n",
      "344\n",
      "go shopping\n",
      "346\n",
      "348\n",
      "go shopping\n",
      "350\n",
      "352\n",
      "go shopping\n",
      "354\n",
      "356\n",
      "go shopping\n",
      "358\n",
      "360\n",
      "go shopping\n",
      "362\n",
      "364\n",
      "go shopping\n"
     ]
    }
   ],
   "source": [
    "for i in range(2, 365):\n",
    "    if i % 2 == 0:\n",
    "        print(i)\n",
    "    if i % 4 == 0:\n",
    "        print(\"go shopping\")"
   ]
  },
  {
   "cell_type": "code",
   "execution_count": 2,
   "metadata": {},
   "outputs": [
    {
     "name": "stdout",
     "output_type": "stream",
     "text": [
      "0\n",
      "1\n"
     ]
    }
   ],
   "source": [
    "print( 2 % 2)\n",
    "print( 15 % 2)"
   ]
  },
  {
   "cell_type": "code",
   "execution_count": null,
   "metadata": {},
   "outputs": [],
   "source": []
  }
 ],
 "metadata": {
  "kernelspec": {
   "display_name": "Python 3 (ipykernel)",
   "language": "python",
   "name": "python3"
  },
  "language_info": {
   "codemirror_mode": {
    "name": "ipython",
    "version": 3
   },
   "file_extension": ".py",
   "mimetype": "text/x-python",
   "name": "python",
   "nbconvert_exporter": "python",
   "pygments_lexer": "ipython3",
   "version": "3.9.12"
  }
 },
 "nbformat": 4,
 "nbformat_minor": 4
}
