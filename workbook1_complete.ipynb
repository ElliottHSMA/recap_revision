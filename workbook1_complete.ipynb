{
 "cells": [
  {
   "cell_type": "markdown",
   "metadata": {},
   "source": [
    "# Python Programming Workbook 1\n"
   ]
  },
  {
   "cell_type": "markdown",
   "metadata": {},
   "source": [
    "This workbook is intended to accompany Session 1C of the HSMA Training Programme - Python Programming Part 1.  You should be completing this when prompted by the trainer as Exercise 2 of the session.  You should read each task, and then try to write code to achieve what you are being asked in the code cell below each set of instructions.  Remember - check your code is working by running the code cell (CTRL + Enter whilst in the cell, or click the play button in the bar at the top)."
   ]
  },
  {
   "cell_type": "markdown",
   "metadata": {},
   "source": [
    "**Task 1**\n",
    "Write a simple calculator that asks the user to input two numbers, then adds them together and displays the result to the user."
   ]
  },
  {
   "cell_type": "code",
   "execution_count": 1,
   "metadata": {},
   "outputs": [
    {
     "name": "stdout",
     "output_type": "stream",
     "text": [
      "Please type in the first number, Elliott: 1\n",
      "Please type in the second number, Elliott: 32\n",
      "The sum of the first and second numbers is 33\n",
      "Alt way: he sum of the first and second numbers is 33\n"
     ]
    }
   ],
   "source": [
    "user_name = \"Elliott\"\n",
    "\n",
    "number_1 = int(input(f\"Please type in the first number, {user_name}: \"))\n",
    "number_2 = int(input(f\"Please type in the second number, {user_name}: \"))\n",
    "\n",
    "number_3 = number_1 + number_2\n",
    "\n",
    "print(f\"The sum of the first and second numbers is {number_3}\")\n",
    "\n",
    "print(f\"Alt way: he sum of the first and second numbers is {number_1 + number_2}\")"
   ]
  },
  {
   "cell_type": "markdown",
   "metadata": {},
   "source": [
    "**Task 2** Write code that checks whether the output of the calculation above is 1,000,000 or more, and if so, displays a message to the user saying \"Wow - that's a big calculation!\".  If you haven't already, you'll need to make sure that the result of the calculation above is stored in a variable to do this."
   ]
  },
  {
   "cell_type": "code",
   "execution_count": 2,
   "metadata": {},
   "outputs": [
    {
     "name": "stdout",
     "output_type": "stream",
     "text": [
      "Please type in the third number, Elliott: 1000001\n",
      "Wow - that's a big calculation!\n"
     ]
    }
   ],
   "source": [
    "number_3 = int(input(f\"Please type in the third number, {user_name}: \"))\n",
    "\n",
    "if number_3 >= 1000000:\n",
    "    print(\"Wow - that's a big calculation!\")"
   ]
  },
  {
   "cell_type": "markdown",
   "metadata": {},
   "source": [
    "**Task 3** Write code that asks the user to input the length, width and height of a cuboid in cm.  If all three measurements are the same, the program identifies that the shape is a cube, notifies the user of this, and then calculates the volume by simply cubing one of the measurements, before displaying the volume to the user.  If all three measurements are not the same, then the program notifies the user that this is a cuboid, and calculates the volume of the cuboid, before displaying the volume to the user."
   ]
  },
  {
   "cell_type": "code",
   "execution_count": 9,
   "metadata": {},
   "outputs": [
    {
     "name": "stdout",
     "output_type": "stream",
     "text": [
      "Please enter length in cm: 2\n",
      "Please enter width in cm: 2\n",
      "Please enter height in cm: 3\n",
      "this is a cubiod\n",
      "This is a cube with volume 12.0\n"
     ]
    }
   ],
   "source": [
    "length = int(input(\"Please enter length in cm: \"))\n",
    "width = int(input(\"Please enter width in cm: \"))\n",
    "height = float(input(\"Please enter height in cm: \"))\n",
    "\n",
    "vol = length * width * height\n",
    "\n",
    "if length == width == height:\n",
    "#     print(\"This is a cube\")\n",
    "#     print(vol)\n",
    "    print(f\"This is a cube with volume {length**3}\")\n",
    "else:\n",
    "    print(\"this is a cubiod\")\n",
    "    print(f\"This is a cubiod with volume {vol}\")\n",
    "\n"
   ]
  },
  {
   "cell_type": "code",
   "execution_count": 2,
   "metadata": {},
   "outputs": [
    {
     "name": "stdout",
     "output_type": "stream",
     "text": [
      "Please enter length in cm: 20\n",
      "Please enter width in cm: 30\n",
      "Please enter height in cm: 40\n"
     ]
    }
   ],
   "source": [
    "length = int(input(\"Please enter length in cm: \"))\n",
    "width = int(input(\"Please enter width in cm: \"))\n",
    "height = float(input(\"Please enter height in cm: \"))\n",
    "\n",
    "\n",
    "def cube_or_cuboid(he, wi, de):\n",
    "    vol = he * wi *de\n",
    "    if he == wi == de:\n",
    "        print(f\"This is a cube with volume {wi**3}\")\n",
    "    else:\n",
    "        print(\"this is a cubiod\")\n",
    "        print(f\"This is a cubiod with volume {vol}\")"
   ]
  },
  {
   "cell_type": "code",
   "execution_count": 5,
   "metadata": {},
   "outputs": [
    {
     "name": "stdout",
     "output_type": "stream",
     "text": [
      "Please enter length in cm: 7\n",
      "Please enter width in cm: 5\n",
      "Please enter height in cm: 6\n",
      "this is a cubiod\n",
      "This is a cubiod with volume 210.0\n"
     ]
    }
   ],
   "source": [
    "length = int(input(\"Please enter length in cm: \"))\n",
    "width = int(input(\"Please enter width in cm: \"))\n",
    "height = float(input(\"Please enter height in cm: \"))\n",
    "\n",
    "cube_or_cuboid(length, width, height)"
   ]
  },
  {
   "cell_type": "code",
   "execution_count": 6,
   "metadata": {},
   "outputs": [
    {
     "name": "stdout",
     "output_type": "stream",
     "text": [
      "this is a cubiod\n",
      "This is a cubiod with volume 159720\n"
     ]
    }
   ],
   "source": [
    "cube_or_cuboid(66, 55, 44)"
   ]
  },
  {
   "cell_type": "code",
   "execution_count": 7,
   "metadata": {},
   "outputs": [
    {
     "name": "stdout",
     "output_type": "stream",
     "text": [
      "This is a cube with volume 8\n"
     ]
    }
   ],
   "source": [
    "cube_or_cuboid(2, 2, 2)"
   ]
  },
  {
   "cell_type": "markdown",
   "metadata": {},
   "source": [
    "**Task 4** **Note - this task is considered more challenging.  You will need to think carefully about how you would approach this problem using what you've been shown.  Read back through the notes carefully** Write a piece of code that asks the user to input a day number from 1 up to and including 365, and which, assuming that day 1 represents a Monday, prints out the day of the week corresponding to the day the user inputs.  For example, if the user were to input 16, the code should print out \"Tuesday\"."
   ]
  },
  {
   "cell_type": "code",
   "execution_count": 54,
   "metadata": {},
   "outputs": [
    {
     "name": "stdout",
     "output_type": "stream",
     "text": [
      "input a day number from 1 up to and including 365: 16\n",
      "The day of the week is Tues\n"
     ]
    }
   ],
   "source": [
    "# dictionary\n",
    "# lists\n",
    "# modulus\n",
    "\n",
    "\n",
    "dows = [\"Mon\", \"Tues\", \"Wed\", \"Thurs\", \"Fri\", \"Sat\", \"Sun\"]\n",
    "dow_dict = {}\n",
    "\n",
    "for idx, days_ in enumerate(dows):\n",
    "    dow_dict[idx+1] = days_\n",
    "    \n",
    "user_day_input = int(input(\"input a day number from 1 up to and including 365: \"))\n",
    "\n",
    "user_remainder = user_day_input % 7\n",
    "\n",
    "\n",
    "if user_day_input <= 7:\n",
    "    print(f\"The day of the week is {dow_dict[user_day_input]}\")\n",
    "else:\n",
    "    print(f\"The day of the week is {dow_dict[user_remainder]}\")\n"
   ]
  },
  {
   "cell_type": "code",
   "execution_count": null,
   "metadata": {},
   "outputs": [],
   "source": []
  }
 ],
 "metadata": {
  "kernelspec": {
   "display_name": "Python 3 (ipykernel)",
   "language": "python",
   "name": "python3"
  },
  "language_info": {
   "codemirror_mode": {
    "name": "ipython",
    "version": 3
   },
   "file_extension": ".py",
   "mimetype": "text/x-python",
   "name": "python",
   "nbconvert_exporter": "python",
   "pygments_lexer": "ipython3",
   "version": "3.9.12"
  }
 },
 "nbformat": 4,
 "nbformat_minor": 4
}
